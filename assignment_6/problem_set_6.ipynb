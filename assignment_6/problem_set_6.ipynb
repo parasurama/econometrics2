{
 "cells": [
  {
   "cell_type": "markdown",
   "metadata": {},
   "source": [
    "# Problem 1"
   ]
  },
  {
   "cell_type": "markdown",
   "metadata": {},
   "source": [
    "This exercise asks you to implement and assess the performance of the bootstrap for the linear regression model. Suppose you have the linear regression model:\n",
    "\n",
    "\\begin{align*}\n",
    "  y_{i} = \\beta_{0} + \\beta_{1}x_{i} + \\epsilon_{i}\n",
    "\\end{align*}\n",
    "\n",
    "where,\n",
    "\n",
    "\\begin{itemize}\n",
    "  \\item[-] $x_{i} \\sim U[0,2]$\n",
    "  \\item[-] $\\epsilon_{i} \\vert x_{i} \\sim U[-1,1]$\n",
    "  \\item[-] $\\beta_{0} = \\beta_{1} = 1$ \n",
    "\\end{itemize}\n",
    "\n",
    "We ask you to answer the following questions:"
   ]
  },
  {
   "cell_type": "markdown",
   "metadata": {},
   "source": [
    "a. Write a code that generates i.i.d. samples of sizes $n=10,50,200$ from that distribution, computes (1) the least squares estimator for $\\beta$, (2) the t-ratio for the least squares coefficient $\\beta_{1}$, $t_{n} = \\frac{\\hat{\\beta}_{1,LS} - 1}{\\hat{s.e.}(\\hat{\\beta}_{1,LS})}$, and (3) the least square residuals $\\hat{\\epsilon}_{i} = y_{i} - \\hat{\\beta}_{0,LS} - \\hat{\\beta}_{1,LS} x_{i}$\n"
   ]
  },
  {
   "cell_type": "code",
   "execution_count": 1,
   "metadata": {
    "collapsed": true
   },
   "outputs": [],
   "source": [
    "import numpy as np\n",
    "import pandas as pd\n",
    "import statsmodels.api as sm\n",
    "import matplotlib.pyplot as plt\n",
    "from datetime import datetime\n",
    "%matplotlib inline"
   ]
  },
  {
   "cell_type": "code",
   "execution_count": 2,
   "metadata": {
    "collapsed": true
   },
   "outputs": [],
   "source": [
    "class BootstrapSimulator:\n",
    "    def __init__(self, n):\n",
    "        self.n = n  # sample size\n",
    "\n",
    "        self.df = pd.DataFrame()\n",
    "        \n",
    "        self.ols = None\n",
    "        self.b0_ols = None\n",
    "        self.b1_ols = None\n",
    "        self.t_ols = None\n",
    "\n",
    "    def draw_samples(self):\n",
    "        n = self.n\n",
    "\n",
    "        self.df['x'] = np.random.uniform(0, 2, n)\n",
    "        self.df['e'] = np.random.uniform(-1, 1, n)\n",
    "        self.df['y'] = 1 + self.df['x'] + self.df['e']\n",
    "        self.df['intercept'] = np.ones(n)\n",
    "        return self.df\n",
    "\n",
    "    @staticmethod\n",
    "    def get_ols_params(fitted_model):\n",
    "        b_hat = fitted_model.params['x']\n",
    "        b_se = fitted_model.bse['x']\n",
    "        t = (b_hat - 1) / b_se\n",
    "        return b_hat, t\n",
    "\n",
    "    def fit_ols(self, y=\"y\"):\n",
    "        # fit model\n",
    "        self.ols = sm.OLS(self.df[y], self.df[['x', 'intercept']]).fit()\n",
    "\n",
    "        self.b1_ols, self.t_ols = self.get_ols_params(self.ols)\n",
    "        self.b0_ols = self.ols.params['intercept']\n",
    "\n",
    "        # residuals\n",
    "        self.df['e_hat'] = self.df[y] - self.b0_ols - self.b1_ols * self.df['x']\n",
    "\n",
    "        return self.b1_ols, self.t_ols\n",
    "\n",
    "    def sample_residuals(self):\n",
    "        n = len(self.df)\n",
    "        return np.random.choice(self.df['e_hat'], n, replace=True)\n",
    "\n",
    "    @staticmethod\n",
    "    def get_bootstrap_stats(params):\n",
    "        return {'ci': (np.percentile(params, 2.5), np.percentile(params, 97.5)),\n",
    "                'mean': np.mean(params)}\n",
    "\n",
    "    def residual_bootstrap(self, n_reps=200):\n",
    "\n",
    "        b_bootstrap = list()\n",
    "        t_bootstrap = list()\n",
    "\n",
    "        stats = dict()\n",
    "\n",
    "        for _ in range(n_reps):\n",
    "            e_bootstrap = self.sample_residuals()\n",
    "            self.df['y_bootstrap'] = self.b0_ols + self.b1_ols * self.df['x'] + e_bootstrap\n",
    "            ols = sm.OLS(self.df[\"y_bootstrap\"], self.df[['x', 'intercept']]).fit()\n",
    "            b, t = self.get_ols_params(ols)\n",
    "            b_bootstrap.append(b)\n",
    "            t_bootstrap.append(t)\n",
    "\n",
    "        stats['b'] = self.get_bootstrap_stats(b_bootstrap)\n",
    "        stats['t'] = self.get_bootstrap_stats(t_bootstrap)\n",
    "\n",
    "        return stats\n",
    "\n",
    "    def parametric_bootstrap(self, n_reps=200):\n",
    "        b_bootstrap = list()\n",
    "        t_bootstrap = list()\n",
    "\n",
    "        stats = dict()\n",
    "\n",
    "        for _ in range(n_reps):\n",
    "            self.df['e'] = np.random.uniform(-1, 1, self.n)\n",
    "            self.df['y'] = self.b0_ols + self.b1_ols * self.df['x'] + self.df['e']\n",
    "            ols = sm.OLS(self.df['y'], self.df[['x', 'intercept']]).fit()\n",
    "\n",
    "            b, t = self.get_ols_params(ols)\n",
    "            b_bootstrap.append(b)\n",
    "            t_bootstrap.append(t)\n",
    "        stats['b'] = self.get_bootstrap_stats(b_bootstrap)\n",
    "        stats['t'] = self.get_bootstrap_stats(t_bootstrap)\n",
    "\n",
    "        return stats\n"
   ]
  },
  {
   "cell_type": "markdown",
   "metadata": {},
   "source": [
    "See `draw_samples` and `fit_ols` methods."
   ]
  },
  {
   "cell_type": "markdown",
   "metadata": {},
   "source": [
    "b. Write a code for drawing $n$ times at random from the discrete uniform distribution over the estimated residuals $\\hat{\\epsilon}_{1},...,\\hat{\\epsilon}_{n}$ (i.e. with replacement)."
   ]
  },
  {
   "cell_type": "markdown",
   "metadata": {
    "collapsed": true
   },
   "source": [
    "See `sample_residuals` method in `BootstrapSimulator` class."
   ]
  },
  {
   "cell_type": "markdown",
   "metadata": {},
   "source": [
    "c. Use your code from parts (a) and (b) to implement the residual bootstrap - assuming that $\\epsilon_{i}$ and $x_{i}$ are independent - to estimate the 95th percentiles of the respective distributions of $\\hat{\\beta}_{1,LS}$ and $t_{n}$\n"
   ]
  },
  {
   "cell_type": "code",
   "execution_count": 3,
   "metadata": {},
   "outputs": [
    {
     "data": {
      "text/plain": [
       "(0.9850883905439032, -0.19459470136382742)"
      ]
     },
     "execution_count": 3,
     "metadata": {},
     "output_type": "execute_result"
    }
   ],
   "source": [
    "bs_10 = BootstrapSimulator(n=10)\n",
    "bs_50 = BootstrapSimulator(n=50)\n",
    "bs_200 = BootstrapSimulator(n=200)\n",
    "\n",
    "bs_10.draw_samples()\n",
    "bs_10.fit_ols()\n",
    "\n",
    "bs_50.draw_samples()\n",
    "bs_50.fit_ols()\n",
    "\n",
    "bs_200.draw_samples()\n",
    "bs_200.fit_ols()"
   ]
  },
  {
   "cell_type": "code",
   "execution_count": 4,
   "metadata": {
    "collapsed": true
   },
   "outputs": [],
   "source": [
    "# Residual bootstrap \n",
    "res_10 = bs_10.residual_bootstrap()\n",
    "res_50 = bs_50.residual_bootstrap()\n",
    "res_200 = bs_200.residual_bootstrap()\n"
   ]
  },
  {
   "cell_type": "code",
   "execution_count": 5,
   "metadata": {},
   "outputs": [
    {
     "name": "stdout",
     "output_type": "stream",
     "text": [
      "b estimates\n",
      "                                         ci      mean\n",
      "0  (0.1252409779586813, 0.8744245281189442)  0.497854\n",
      "1  (0.7564703092768035, 1.3095184865086547)  1.024620\n",
      "2  (0.8415242880163574, 1.1121380817466304)  0.975943\n",
      "t estimates\n",
      "                                           ci      mean\n",
      "0  (-4.9693357957442394, -0.5040697930336879) -2.357089\n",
      "1    (-1.8305105346400985, 2.240661045221299)  0.177186\n",
      "2     (-2.016877673129661, 1.467179807545017) -0.316971\n"
     ]
    }
   ],
   "source": [
    "df_res = pd.DataFrame([res_10, res_50, res_200])\n",
    "\n",
    "print('b estimates')\n",
    "print(df_res['b'].apply(pd.Series))\n",
    "\n",
    "print('t estimates')\n",
    "print(df_res['t'].apply(pd.Series))"
   ]
  },
  {
   "cell_type": "markdown",
   "metadata": {},
   "source": [
    "d. Repeat part (a) for sample size $n=10,50,200$ with $200$ replications, where you keep the initial draws of $x_{1},..,x_{n}$ from part (a) and only generate new residuals from their conditional distribution. Compute $\\hat{\\beta}_{1,LS}$ and the statistic $t_{n}$ using $200$ independent samples of size $n$. Use your results to compute a simulated estimate for the 95th percentiles of the respective sampling distributions for $\\hat{\\beta}_{1,LS}$ and $t_{n}$.\n"
   ]
  },
  {
   "cell_type": "code",
   "execution_count": 6,
   "metadata": {
    "collapsed": true
   },
   "outputs": [],
   "source": [
    "# parametric bootstrap\n",
    "par_10 = bs_10.parametric_bootstrap()\n",
    "par_50 = bs_50.parametric_bootstrap()\n",
    "par_200 = bs_200.parametric_bootstrap()\n"
   ]
  },
  {
   "cell_type": "code",
   "execution_count": 7,
   "metadata": {},
   "outputs": [
    {
     "name": "stdout",
     "output_type": "stream",
     "text": [
      "b estimates\n",
      "                                           ci      mean\n",
      "0  (-0.07770851234812026, 1.0908798535407562)  0.481773\n",
      "1    (0.7336699250353068, 1.2440893219167681)  1.014423\n",
      "2    (0.8299080953533149, 1.1223787253665154)  0.985627\n",
      "t estimates\n",
      "                                          ci      mean\n",
      "0   (-4.249443952035807, 0.3108292477213074) -1.776718\n",
      "1  (-2.0759239890186234, 1.7110379456127023)  0.091293\n",
      "2  (-2.3983362460727142, 1.6721542243509722) -0.196839\n"
     ]
    }
   ],
   "source": [
    "df_par = pd.DataFrame([par_10, par_50, par_200])\n",
    "\n",
    "print('b estimates')\n",
    "print(df_par['b'].apply(pd.Series))\n",
    "\n",
    "print('t estimates')\n",
    "print(df_par['t'].apply(pd.Series))"
   ]
  },
  {
   "cell_type": "markdown",
   "metadata": {},
   "source": [
    "e. Compare your results from (c) and (d). What do you conclude about the performance of the bootstrap? How does it compare to the 95th percentile of the asymptotic distribution of $t_{n}$?"
   ]
  },
  {
   "cell_type": "markdown",
   "metadata": {},
   "source": [
    "Both residual (c) and parametric (d) bootstrap give similar results for $beta$ estimates. For $t$ estimates, they are different for n=2, but tend to converge for higher n.   \n"
   ]
  },
  {
   "cell_type": "code",
   "execution_count": 8,
   "metadata": {
    "collapsed": true
   },
   "outputs": [],
   "source": [
    "def get_asymptotic_ci(bs_sim, stat):\n",
    "    if stat == \"b\":\n",
    "        return (bs_sim.ols.params['x'] - 2*bs_sim.ols.bse['x'], bs_sim.ols.params['x'] + 2*bs_sim.ols.bse['x'])\n",
    "    elif stat == \"t\":\n",
    "        return (((bs_sim.ols.params['x'] - 2*bs_sim.ols.bse['x']) - 1)/bs_sim.ols.bse['x'], ((bs_sim.ols.params['x'] + 2*bs_sim.ols.bse['x']) - 1)/bs_sim.ols.bse['x'])"
   ]
  },
  {
   "cell_type": "markdown",
   "metadata": {},
   "source": [
    "For, $\\hat{\\beta}_1$, note that the bootstrap CI are fairly close to asymptotic distribution CI:"
   ]
  },
  {
   "cell_type": "code",
   "execution_count": 9,
   "metadata": {},
   "outputs": [
    {
     "name": "stdout",
     "output_type": "stream",
     "text": [
      "(0.0012296909768160225, 1.0016978646647163)\n",
      "(0.7340372030038689, 1.3007819814839865)\n",
      "(0.831830266334066, 1.1383465147537404)\n"
     ]
    }
   ],
   "source": [
    "print(get_asymptotic_ci(bs_10, stat=\"b\"))\n",
    "print(get_asymptotic_ci(bs_50, stat=\"b\"))\n",
    "print(get_asymptotic_ci(bs_200, stat=\"b\"))"
   ]
  },
  {
   "cell_type": "markdown",
   "metadata": {},
   "source": [
    "To get asymptotic distribution of $t_n$, we would have to rely on the delta method. But since $\\beta_1$ and $se(beta_1)$ are independent, we can do a simple substitution. The bootstrap estimates converge for larger n.     "
   ]
  },
  {
   "cell_type": "code",
   "execution_count": 10,
   "metadata": {},
   "outputs": [
    {
     "name": "stdout",
     "output_type": "stream",
     "text": [
      "(-3.9932117194354806, 0.00678828056451893)\n",
      "(-1.877125698162645, 2.122874301837354)\n",
      "(-2.1945947013638274, 1.8054052986361726)\n"
     ]
    }
   ],
   "source": [
    "print(get_asymptotic_ci(bs_10, stat=\"t\"))\n",
    "print(get_asymptotic_ci(bs_50, stat=\"t\"))\n",
    "print(get_asymptotic_ci(bs_200, stat=\"t\"))"
   ]
  },
  {
   "cell_type": "markdown",
   "metadata": {},
   "source": [
    "# Problem 2"
   ]
  },
  {
   "cell_type": "markdown",
   "metadata": {},
   "source": [
    "This exercise will walk you through a prediction task. I have downloaded data from a peer-to-peer lending platform, Lending Club. The dataset you will work with is: __lending_club_07_to_11_cleaned.csv__. Lending Club provides detailed characteristic information regarding loans, both information on the borrower, as well as, the loan itself. Your goal will be to build a model to predict the outcome of a loan, i.e. whether an individual paid off a loan or did not pay off a loan. In our case, a good outcome is if the loan is fully paid off, a bad outcome is if the loan is charged off. \n",
    "\n",
    "The target variable for the analysis is **loan_status**, where:\n",
    "\n",
    "\\begin{align*}\n",
    "  loan\\_status = \n",
    "    \\begin{cases}\n",
    "      1 \\mbox{ if loan is paid off } \\\\\n",
    "      0 \\mbox{ if loan is not paid off }\n",
    "    \\end{cases}\n",
    "\\end{align*}\n"
   ]
  },
  {
   "cell_type": "code",
   "execution_count": 11,
   "metadata": {
    "collapsed": true
   },
   "outputs": [],
   "source": [
    "import pandas as pd\n",
    "\n",
    "df = pd.read_csv(\"data/lending_club_07_to_11_cleaned.csv\")"
   ]
  },
  {
   "cell_type": "markdown",
   "metadata": {},
   "source": [
    "a. This is going to be a more DIY style exercise, provide a list of the variables you plan to use for the analysis. Give a short discussion for why you excluded other variables.\n"
   ]
  },
  {
   "cell_type": "code",
   "execution_count": 12,
   "metadata": {
    "collapsed": true
   },
   "outputs": [],
   "source": [
    "vars_to_include = [\"addr_state\", \n",
    "                   \"annual_inc\", \n",
    "                   \"delinq_2yrs\",\n",
    "                   \"dti\",\n",
    "                   \"emp_length\",\n",
    "                   \"funded_amnt\",\n",
    "                   \"home_ownership\",\n",
    "                   \"inq_last_6mths\",\n",
    "                   \"installment\",\n",
    "                   \"int_rate\",\n",
    "                   'loan_amnt',\n",
    "                   'open_acc',\n",
    "                   'pub_rec',\n",
    "                   'pub_rec_bankruptcies',\n",
    "                   'purpose',\n",
    "                   'revol_bal', \n",
    "                   'revol_util',\n",
    "                   'sub_grade',\n",
    "                   'term',\n",
    "                   'total_acc',\n",
    "                   'total_pymnt',\n",
    "                   'total_rec_int',\n",
    "                   'total_rec_late_fee',\n",
    "                   'total_rec_prncp',\n",
    "                   'verification_status',\n",
    "                   'zip_code']"
   ]
  },
  {
   "cell_type": "code",
   "execution_count": 13,
   "metadata": {
    "collapsed": true
   },
   "outputs": [],
   "source": [
    "# convert to datetime\n",
    "df['issue_d'] = pd.to_datetime(df['issue_d'], format='%b-%y')\n",
    "df['earliest_cr_line'] = pd.to_datetime(df['earliest_cr_line'], format='%b-%y')\n",
    "df['last_pymnt_d'] = pd.to_datetime(df['last_pymnt_d'], format='%b-%y')\n",
    "df['last_credit_pull_d'] = pd.to_datetime(df['last_credit_pull_d'], format='%b-%y')\n"
   ]
  },
  {
   "cell_type": "code",
   "execution_count": 14,
   "metadata": {
    "collapsed": true
   },
   "outputs": [],
   "source": [
    "# create new features\n",
    "df['days_since_first_cr_line'] = (df['issue_d'] - df['earliest_cr_line']).apply(lambda x: x.days)\n",
    "df['days_since_last_pymnt'] = (datetime.today() - df['last_pymnt_d']).apply(lambda x: x.days)\n",
    "df['days_since_last_cr_pull'] = (datetime.today() - df['last_credit_pull_d']).apply(lambda x: x.days)\n"
   ]
  },
  {
   "cell_type": "code",
   "execution_count": 15,
   "metadata": {
    "collapsed": true
   },
   "outputs": [],
   "source": [
    "vars_to_include.extend(['days_since_first_cr_line', 'days_since_last_pymnt', 'days_since_last_cr_pull'])"
   ]
  },
  {
   "cell_type": "code",
   "execution_count": 16,
   "metadata": {},
   "outputs": [
    {
     "data": {
      "text/plain": [
       "addr_state                   object\n",
       "annual_inc                  float64\n",
       "delinq_2yrs                   int64\n",
       "dti                         float64\n",
       "emp_length                   object\n",
       "funded_amnt                   int64\n",
       "home_ownership               object\n",
       "inq_last_6mths                int64\n",
       "installment                 float64\n",
       "int_rate                     object\n",
       "loan_amnt                     int64\n",
       "open_acc                      int64\n",
       "pub_rec                       int64\n",
       "pub_rec_bankruptcies        float64\n",
       "purpose                      object\n",
       "revol_bal                     int64\n",
       "revol_util                   object\n",
       "sub_grade                    object\n",
       "term                         object\n",
       "total_acc                     int64\n",
       "total_pymnt                 float64\n",
       "total_rec_int               float64\n",
       "total_rec_late_fee          float64\n",
       "total_rec_prncp             float64\n",
       "verification_status          object\n",
       "zip_code                     object\n",
       "days_since_first_cr_line      int64\n",
       "days_since_last_pymnt       float64\n",
       "days_since_last_cr_pull     float64\n",
       "dtype: object"
      ]
     },
     "execution_count": 16,
     "metadata": {},
     "output_type": "execute_result"
    }
   ],
   "source": [
    "df[vars_to_include].dtypes"
   ]
  },
  {
   "cell_type": "code",
   "execution_count": 17,
   "metadata": {
    "collapsed": true
   },
   "outputs": [],
   "source": [
    "# convert to proper data types\n",
    "df['int_rate'] = df['int_rate'].apply(lambda x: float(x[:-1]) if x is not np.nan else x)\n",
    "df['revol_util'] = df['revol_util'].apply(lambda x: float(x[:-1]) if x is not np.nan else x)"
   ]
  },
  {
   "cell_type": "markdown",
   "metadata": {},
   "source": [
    "The following variables are ommitted, because there is no variance in the data: `acc_now_delinq, chargeoff_within_12_mths, collections_12_mths_ex_med, delinq_amnt, disbursement method, hardship_flag, initial_list_status, out_prncp, out_prncp_inv, policy_code, pymnt_plan, tax_liens`.\n",
    "\n",
    "The following variables are omitted because it is not in the data dictionary, and I can't infer what they mean: `collection_recovery_fee, debt_settlement_flag, funded_amnt_inv, total_pymnt_inv, recoveries`.\n",
    "\n",
    "`grade` is fully capture in `sub_grade`. \n",
    "\n",
    "Instead of including, `issue_d, earliest_cr_line, last_credit_pull_d, last_pymnt_d`, I included 3 transformed features: `days_since_first_cr_line, days_since_last_pymnt, days_since_last_pymnt`\n"
   ]
  },
  {
   "cell_type": "markdown",
   "metadata": {},
   "source": [
    "b.  Regularization is an important step when using an machine learning algorithm, regularzie the variables that you have included. Briefly, why is regularization important?"
   ]
  },
  {
   "cell_type": "markdown",
   "metadata": {},
   "source": [
    "Regularization centers and scales the data. It helps with gradient descent convergence as the gradient surface won't be skewed in any particular dimension  "
   ]
  },
  {
   "cell_type": "code",
   "execution_count": 18,
   "metadata": {
    "collapsed": true
   },
   "outputs": [],
   "source": [
    "data = df[vars_to_include+['loan_status']]\n",
    "data = data.dropna().reset_index(drop=True)\n",
    "\n",
    "X = data[vars_to_include]"
   ]
  },
  {
   "cell_type": "code",
   "execution_count": 19,
   "metadata": {
    "scrolled": false
   },
   "outputs": [
    {
     "name": "stdout",
     "output_type": "stream",
     "text": [
      "['annual_inc', 'delinq_2yrs', 'dti', 'funded_amnt', 'inq_last_6mths', 'installment', 'int_rate', 'loan_amnt', 'open_acc', 'pub_rec', 'pub_rec_bankruptcies', 'revol_bal', 'revol_util', 'total_acc', 'total_pymnt', 'total_rec_int', 'total_rec_late_fee', 'total_rec_prncp', 'days_since_first_cr_line', 'days_since_last_pymnt', 'days_since_last_cr_pull']\n"
     ]
    },
    {
     "name": "stderr",
     "output_type": "stream",
     "text": [
      "/Users/parasu/anaconda3/lib/python3.6/site-packages/ipykernel_launcher.py:14: SettingWithCopyWarning: \n",
      "A value is trying to be set on a copy of a slice from a DataFrame.\n",
      "Try using .loc[row_indexer,col_indexer] = value instead\n",
      "\n",
      "See the caveats in the documentation: http://pandas.pydata.org/pandas-docs/stable/indexing.html#indexing-view-versus-copy\n",
      "  \n",
      "/Users/parasu/anaconda3/lib/python3.6/site-packages/pandas/core/indexing.py:543: SettingWithCopyWarning: \n",
      "A value is trying to be set on a copy of a slice from a DataFrame.\n",
      "Try using .loc[row_indexer,col_indexer] = value instead\n",
      "\n",
      "See the caveats in the documentation: http://pandas.pydata.org/pandas-docs/stable/indexing.html#indexing-view-versus-copy\n",
      "  self.obj[item] = s\n"
     ]
    }
   ],
   "source": [
    "from sklearn.preprocessing import StandardScaler\n",
    "\n",
    "data = df[vars_to_include+['loan_status']]\n",
    "data = data.dropna().reset_index(drop=True)\n",
    "\n",
    "X = data[vars_to_include]\n",
    "y = data['loan_status']\n",
    "# get numeric column types\n",
    "\n",
    "numeric_cols = [k for k,v in X.dtypes.to_dict().items() if v in [int, float]]\n",
    "print(numeric_cols)\n",
    "scaler = StandardScaler()\n",
    "\n",
    "X[numeric_cols] = scaler.fit_transform(X[numeric_cols])\n"
   ]
  },
  {
   "cell_type": "markdown",
   "metadata": {},
   "source": [
    "c. Provide a simple correlational table to give you a sense of the relationship between your covariates. Do you notice any interesting patterns?\n"
   ]
  },
  {
   "cell_type": "code",
   "execution_count": 20,
   "metadata": {},
   "outputs": [
    {
     "data": {
      "text/html": [
       "<div>\n",
       "<style scoped>\n",
       "    .dataframe tbody tr th:only-of-type {\n",
       "        vertical-align: middle;\n",
       "    }\n",
       "\n",
       "    .dataframe tbody tr th {\n",
       "        vertical-align: top;\n",
       "    }\n",
       "\n",
       "    .dataframe thead th {\n",
       "        text-align: right;\n",
       "    }\n",
       "</style>\n",
       "<table border=\"1\" class=\"dataframe\">\n",
       "  <thead>\n",
       "    <tr style=\"text-align: right;\">\n",
       "      <th></th>\n",
       "      <th>annual_inc</th>\n",
       "      <th>delinq_2yrs</th>\n",
       "      <th>dti</th>\n",
       "      <th>funded_amnt</th>\n",
       "      <th>inq_last_6mths</th>\n",
       "      <th>installment</th>\n",
       "      <th>int_rate</th>\n",
       "      <th>loan_amnt</th>\n",
       "      <th>open_acc</th>\n",
       "      <th>pub_rec</th>\n",
       "      <th>...</th>\n",
       "      <th>revol_bal</th>\n",
       "      <th>revol_util</th>\n",
       "      <th>total_acc</th>\n",
       "      <th>total_pymnt</th>\n",
       "      <th>total_rec_int</th>\n",
       "      <th>total_rec_late_fee</th>\n",
       "      <th>total_rec_prncp</th>\n",
       "      <th>days_since_first_cr_line</th>\n",
       "      <th>days_since_last_pymnt</th>\n",
       "      <th>days_since_last_cr_pull</th>\n",
       "    </tr>\n",
       "  </thead>\n",
       "  <tbody>\n",
       "    <tr>\n",
       "      <th>annual_inc</th>\n",
       "      <td>1.000000</td>\n",
       "      <td>0.022445</td>\n",
       "      <td>-0.124681</td>\n",
       "      <td>0.268287</td>\n",
       "      <td>0.033472</td>\n",
       "      <td>0.272153</td>\n",
       "      <td>0.052448</td>\n",
       "      <td>0.272296</td>\n",
       "      <td>0.157171</td>\n",
       "      <td>-0.015147</td>\n",
       "      <td>...</td>\n",
       "      <td>0.279054</td>\n",
       "      <td>0.017173</td>\n",
       "      <td>0.237203</td>\n",
       "      <td>0.257571</td>\n",
       "      <td>0.185332</td>\n",
       "      <td>0.008124</td>\n",
       "      <td>0.259872</td>\n",
       "      <td>0.180313</td>\n",
       "      <td>-0.015844</td>\n",
       "      <td>0.010625</td>\n",
       "    </tr>\n",
       "    <tr>\n",
       "      <th>delinq_2yrs</th>\n",
       "      <td>0.022445</td>\n",
       "      <td>1.000000</td>\n",
       "      <td>-0.036118</td>\n",
       "      <td>-0.034389</td>\n",
       "      <td>0.007069</td>\n",
       "      <td>-0.022195</td>\n",
       "      <td>0.158380</td>\n",
       "      <td>-0.033730</td>\n",
       "      <td>0.011986</td>\n",
       "      <td>0.009970</td>\n",
       "      <td>...</td>\n",
       "      <td>-0.056674</td>\n",
       "      <td>-0.044628</td>\n",
       "      <td>0.068196</td>\n",
       "      <td>-0.023685</td>\n",
       "      <td>0.022342</td>\n",
       "      <td>0.033372</td>\n",
       "      <td>-0.039953</td>\n",
       "      <td>0.064830</td>\n",
       "      <td>0.005000</td>\n",
       "      <td>-0.007269</td>\n",
       "    </tr>\n",
       "    <tr>\n",
       "      <th>dti</th>\n",
       "      <td>-0.124681</td>\n",
       "      <td>-0.036118</td>\n",
       "      <td>1.000000</td>\n",
       "      <td>0.065301</td>\n",
       "      <td>-0.000236</td>\n",
       "      <td>0.053239</td>\n",
       "      <td>0.108273</td>\n",
       "      <td>0.065034</td>\n",
       "      <td>0.290514</td>\n",
       "      <td>-0.005554</td>\n",
       "      <td>...</td>\n",
       "      <td>0.228631</td>\n",
       "      <td>0.276073</td>\n",
       "      <td>0.229083</td>\n",
       "      <td>0.064530</td>\n",
       "      <td>0.104411</td>\n",
       "      <td>-0.010295</td>\n",
       "      <td>0.041901</td>\n",
       "      <td>0.050192</td>\n",
       "      <td>-0.097698</td>\n",
       "      <td>-0.119076</td>\n",
       "    </tr>\n",
       "    <tr>\n",
       "      <th>funded_amnt</th>\n",
       "      <td>0.268287</td>\n",
       "      <td>-0.034389</td>\n",
       "      <td>0.065301</td>\n",
       "      <td>1.000000</td>\n",
       "      <td>0.007624</td>\n",
       "      <td>0.955391</td>\n",
       "      <td>0.313052</td>\n",
       "      <td>0.981301</td>\n",
       "      <td>0.172354</td>\n",
       "      <td>-0.048898</td>\n",
       "      <td>...</td>\n",
       "      <td>0.313264</td>\n",
       "      <td>0.069696</td>\n",
       "      <td>0.249831</td>\n",
       "      <td>0.903647</td>\n",
       "      <td>0.736995</td>\n",
       "      <td>0.052480</td>\n",
       "      <td>0.874004</td>\n",
       "      <td>0.193477</td>\n",
       "      <td>-0.146958</td>\n",
       "      <td>-0.042719</td>\n",
       "    </tr>\n",
       "    <tr>\n",
       "      <th>inq_last_6mths</th>\n",
       "      <td>0.033472</td>\n",
       "      <td>0.007069</td>\n",
       "      <td>-0.000236</td>\n",
       "      <td>0.007624</td>\n",
       "      <td>1.000000</td>\n",
       "      <td>0.007526</td>\n",
       "      <td>0.134738</td>\n",
       "      <td>0.007576</td>\n",
       "      <td>0.092757</td>\n",
       "      <td>0.024603</td>\n",
       "      <td>...</td>\n",
       "      <td>-0.025706</td>\n",
       "      <td>-0.068598</td>\n",
       "      <td>0.113206</td>\n",
       "      <td>-0.010114</td>\n",
       "      <td>0.023080</td>\n",
       "      <td>0.029547</td>\n",
       "      <td>-0.023412</td>\n",
       "      <td>0.006994</td>\n",
       "      <td>0.073552</td>\n",
       "      <td>-0.025196</td>\n",
       "    </tr>\n",
       "    <tr>\n",
       "      <th>installment</th>\n",
       "      <td>0.272153</td>\n",
       "      <td>-0.022195</td>\n",
       "      <td>0.053239</td>\n",
       "      <td>0.955391</td>\n",
       "      <td>0.007526</td>\n",
       "      <td>1.000000</td>\n",
       "      <td>0.282471</td>\n",
       "      <td>0.929132</td>\n",
       "      <td>0.169679</td>\n",
       "      <td>-0.043192</td>\n",
       "      <td>...</td>\n",
       "      <td>0.315640</td>\n",
       "      <td>0.095136</td>\n",
       "      <td>0.230644</td>\n",
       "      <td>0.854238</td>\n",
       "      <td>0.632747</td>\n",
       "      <td>0.059798</td>\n",
       "      <td>0.851132</td>\n",
       "      <td>0.169246</td>\n",
       "      <td>-0.043235</td>\n",
       "      <td>-0.019885</td>\n",
       "    </tr>\n",
       "    <tr>\n",
       "      <th>int_rate</th>\n",
       "      <td>0.052448</td>\n",
       "      <td>0.158380</td>\n",
       "      <td>0.108273</td>\n",
       "      <td>0.313052</td>\n",
       "      <td>0.134738</td>\n",
       "      <td>0.282471</td>\n",
       "      <td>1.000000</td>\n",
       "      <td>0.309604</td>\n",
       "      <td>0.013577</td>\n",
       "      <td>0.097092</td>\n",
       "      <td>...</td>\n",
       "      <td>0.100515</td>\n",
       "      <td>0.465695</td>\n",
       "      <td>-0.042612</td>\n",
       "      <td>0.313651</td>\n",
       "      <td>0.531746</td>\n",
       "      <td>0.100839</td>\n",
       "      <td>0.193289</td>\n",
       "      <td>-0.093930</td>\n",
       "      <td>-0.102115</td>\n",
       "      <td>-0.119939</td>\n",
       "    </tr>\n",
       "    <tr>\n",
       "      <th>loan_amnt</th>\n",
       "      <td>0.272296</td>\n",
       "      <td>-0.033730</td>\n",
       "      <td>0.065034</td>\n",
       "      <td>0.981301</td>\n",
       "      <td>0.007576</td>\n",
       "      <td>0.929132</td>\n",
       "      <td>0.309604</td>\n",
       "      <td>1.000000</td>\n",
       "      <td>0.173914</td>\n",
       "      <td>-0.048105</td>\n",
       "      <td>...</td>\n",
       "      <td>0.320136</td>\n",
       "      <td>0.065284</td>\n",
       "      <td>0.255719</td>\n",
       "      <td>0.886746</td>\n",
       "      <td>0.729106</td>\n",
       "      <td>0.050447</td>\n",
       "      <td>0.855311</td>\n",
       "      <td>0.199594</td>\n",
       "      <td>-0.146459</td>\n",
       "      <td>-0.039591</td>\n",
       "    </tr>\n",
       "    <tr>\n",
       "      <th>open_acc</th>\n",
       "      <td>0.157171</td>\n",
       "      <td>0.011986</td>\n",
       "      <td>0.290514</td>\n",
       "      <td>0.172354</td>\n",
       "      <td>0.092757</td>\n",
       "      <td>0.169679</td>\n",
       "      <td>0.013577</td>\n",
       "      <td>0.173914</td>\n",
       "      <td>1.000000</td>\n",
       "      <td>0.003568</td>\n",
       "      <td>...</td>\n",
       "      <td>0.286259</td>\n",
       "      <td>-0.087536</td>\n",
       "      <td>0.684804</td>\n",
       "      <td>0.158537</td>\n",
       "      <td>0.122305</td>\n",
       "      <td>-0.016989</td>\n",
       "      <td>0.156791</td>\n",
       "      <td>0.208382</td>\n",
       "      <td>-0.027757</td>\n",
       "      <td>-0.074567</td>\n",
       "    </tr>\n",
       "    <tr>\n",
       "      <th>pub_rec</th>\n",
       "      <td>-0.015147</td>\n",
       "      <td>0.009970</td>\n",
       "      <td>-0.005554</td>\n",
       "      <td>-0.048898</td>\n",
       "      <td>0.024603</td>\n",
       "      <td>-0.043192</td>\n",
       "      <td>0.097092</td>\n",
       "      <td>-0.048105</td>\n",
       "      <td>0.003568</td>\n",
       "      <td>1.000000</td>\n",
       "      <td>...</td>\n",
       "      <td>-0.059926</td>\n",
       "      <td>0.057715</td>\n",
       "      <td>-0.020384</td>\n",
       "      <td>-0.050642</td>\n",
       "      <td>-0.005121</td>\n",
       "      <td>-0.006129</td>\n",
       "      <td>-0.062609</td>\n",
       "      <td>0.035276</td>\n",
       "      <td>0.013952</td>\n",
       "      <td>-0.052309</td>\n",
       "    </tr>\n",
       "    <tr>\n",
       "      <th>pub_rec_bankruptcies</th>\n",
       "      <td>-0.012931</td>\n",
       "      <td>0.004945</td>\n",
       "      <td>0.005774</td>\n",
       "      <td>-0.034133</td>\n",
       "      <td>0.015048</td>\n",
       "      <td>-0.029963</td>\n",
       "      <td>0.082078</td>\n",
       "      <td>-0.032866</td>\n",
       "      <td>0.009457</td>\n",
       "      <td>0.841247</td>\n",
       "      <td>...</td>\n",
       "      <td>-0.047077</td>\n",
       "      <td>0.060246</td>\n",
       "      <td>-0.007656</td>\n",
       "      <td>-0.039649</td>\n",
       "      <td>-0.000577</td>\n",
       "      <td>-0.005562</td>\n",
       "      <td>-0.050157</td>\n",
       "      <td>0.044421</td>\n",
       "      <td>0.012104</td>\n",
       "      <td>-0.046864</td>\n",
       "    </tr>\n",
       "    <tr>\n",
       "      <th>revol_bal</th>\n",
       "      <td>0.279054</td>\n",
       "      <td>-0.056674</td>\n",
       "      <td>0.228631</td>\n",
       "      <td>0.313264</td>\n",
       "      <td>-0.025706</td>\n",
       "      <td>0.315640</td>\n",
       "      <td>0.100515</td>\n",
       "      <td>0.320136</td>\n",
       "      <td>0.286259</td>\n",
       "      <td>-0.059926</td>\n",
       "      <td>...</td>\n",
       "      <td>1.000000</td>\n",
       "      <td>0.305062</td>\n",
       "      <td>0.312378</td>\n",
       "      <td>0.295432</td>\n",
       "      <td>0.244697</td>\n",
       "      <td>0.006222</td>\n",
       "      <td>0.284513</td>\n",
       "      <td>0.245795</td>\n",
       "      <td>-0.034163</td>\n",
       "      <td>-0.045488</td>\n",
       "    </tr>\n",
       "    <tr>\n",
       "      <th>revol_util</th>\n",
       "      <td>0.017173</td>\n",
       "      <td>-0.044628</td>\n",
       "      <td>0.276073</td>\n",
       "      <td>0.069696</td>\n",
       "      <td>-0.068598</td>\n",
       "      <td>0.095136</td>\n",
       "      <td>0.465695</td>\n",
       "      <td>0.065284</td>\n",
       "      <td>-0.087536</td>\n",
       "      <td>0.057715</td>\n",
       "      <td>...</td>\n",
       "      <td>0.305062</td>\n",
       "      <td>1.000000</td>\n",
       "      <td>-0.068831</td>\n",
       "      <td>0.080870</td>\n",
       "      <td>0.195013</td>\n",
       "      <td>0.040979</td>\n",
       "      <td>0.026387</td>\n",
       "      <td>-0.025639</td>\n",
       "      <td>-0.090850</td>\n",
       "      <td>-0.145986</td>\n",
       "    </tr>\n",
       "    <tr>\n",
       "      <th>total_acc</th>\n",
       "      <td>0.237203</td>\n",
       "      <td>0.068196</td>\n",
       "      <td>0.229083</td>\n",
       "      <td>0.249831</td>\n",
       "      <td>0.113206</td>\n",
       "      <td>0.230644</td>\n",
       "      <td>-0.042612</td>\n",
       "      <td>0.255719</td>\n",
       "      <td>0.684804</td>\n",
       "      <td>-0.020384</td>\n",
       "      <td>...</td>\n",
       "      <td>0.312378</td>\n",
       "      <td>-0.068831</td>\n",
       "      <td>1.000000</td>\n",
       "      <td>0.222062</td>\n",
       "      <td>0.145692</td>\n",
       "      <td>-0.020286</td>\n",
       "      <td>0.228903</td>\n",
       "      <td>0.358805</td>\n",
       "      <td>-0.003767</td>\n",
       "      <td>-0.066941</td>\n",
       "    </tr>\n",
       "    <tr>\n",
       "      <th>total_pymnt</th>\n",
       "      <td>0.257571</td>\n",
       "      <td>-0.023685</td>\n",
       "      <td>0.064530</td>\n",
       "      <td>0.903647</td>\n",
       "      <td>-0.010114</td>\n",
       "      <td>0.854238</td>\n",
       "      <td>0.313651</td>\n",
       "      <td>0.886746</td>\n",
       "      <td>0.158537</td>\n",
       "      <td>-0.050642</td>\n",
       "      <td>...</td>\n",
       "      <td>0.295432</td>\n",
       "      <td>0.080870</td>\n",
       "      <td>0.222062</td>\n",
       "      <td>1.000000</td>\n",
       "      <td>0.836404</td>\n",
       "      <td>0.021781</td>\n",
       "      <td>0.971794</td>\n",
       "      <td>0.179525</td>\n",
       "      <td>-0.317523</td>\n",
       "      <td>-0.023946</td>\n",
       "    </tr>\n",
       "    <tr>\n",
       "      <th>total_rec_int</th>\n",
       "      <td>0.185332</td>\n",
       "      <td>0.022342</td>\n",
       "      <td>0.104411</td>\n",
       "      <td>0.736995</td>\n",
       "      <td>0.023080</td>\n",
       "      <td>0.632747</td>\n",
       "      <td>0.531746</td>\n",
       "      <td>0.729106</td>\n",
       "      <td>0.122305</td>\n",
       "      <td>-0.005121</td>\n",
       "      <td>...</td>\n",
       "      <td>0.244697</td>\n",
       "      <td>0.195013</td>\n",
       "      <td>0.145692</td>\n",
       "      <td>0.836404</td>\n",
       "      <td>1.000000</td>\n",
       "      <td>0.082799</td>\n",
       "      <td>0.695599</td>\n",
       "      <td>0.123714</td>\n",
       "      <td>-0.474569</td>\n",
       "      <td>-0.131297</td>\n",
       "    </tr>\n",
       "    <tr>\n",
       "      <th>total_rec_late_fee</th>\n",
       "      <td>0.008124</td>\n",
       "      <td>0.033372</td>\n",
       "      <td>-0.010295</td>\n",
       "      <td>0.052480</td>\n",
       "      <td>0.029547</td>\n",
       "      <td>0.059798</td>\n",
       "      <td>0.100839</td>\n",
       "      <td>0.050447</td>\n",
       "      <td>-0.016989</td>\n",
       "      <td>-0.006129</td>\n",
       "      <td>...</td>\n",
       "      <td>0.006222</td>\n",
       "      <td>0.040979</td>\n",
       "      <td>-0.020286</td>\n",
       "      <td>0.021781</td>\n",
       "      <td>0.082799</td>\n",
       "      <td>1.000000</td>\n",
       "      <td>-0.013677</td>\n",
       "      <td>-0.010749</td>\n",
       "      <td>0.008729</td>\n",
       "      <td>-0.026863</td>\n",
       "    </tr>\n",
       "    <tr>\n",
       "      <th>total_rec_prncp</th>\n",
       "      <td>0.259872</td>\n",
       "      <td>-0.039953</td>\n",
       "      <td>0.041901</td>\n",
       "      <td>0.874004</td>\n",
       "      <td>-0.023412</td>\n",
       "      <td>0.851132</td>\n",
       "      <td>0.193289</td>\n",
       "      <td>0.855311</td>\n",
       "      <td>0.156791</td>\n",
       "      <td>-0.062609</td>\n",
       "      <td>...</td>\n",
       "      <td>0.284513</td>\n",
       "      <td>0.026387</td>\n",
       "      <td>0.228903</td>\n",
       "      <td>0.971794</td>\n",
       "      <td>0.695599</td>\n",
       "      <td>-0.013677</td>\n",
       "      <td>1.000000</td>\n",
       "      <td>0.183498</td>\n",
       "      <td>-0.237988</td>\n",
       "      <td>0.023259</td>\n",
       "    </tr>\n",
       "    <tr>\n",
       "      <th>days_since_first_cr_line</th>\n",
       "      <td>0.180313</td>\n",
       "      <td>0.064830</td>\n",
       "      <td>0.050192</td>\n",
       "      <td>0.193477</td>\n",
       "      <td>0.006994</td>\n",
       "      <td>0.169246</td>\n",
       "      <td>-0.093930</td>\n",
       "      <td>0.199594</td>\n",
       "      <td>0.208382</td>\n",
       "      <td>0.035276</td>\n",
       "      <td>...</td>\n",
       "      <td>0.245795</td>\n",
       "      <td>-0.025639</td>\n",
       "      <td>0.358805</td>\n",
       "      <td>0.179525</td>\n",
       "      <td>0.123714</td>\n",
       "      <td>-0.010749</td>\n",
       "      <td>0.183498</td>\n",
       "      <td>1.000000</td>\n",
       "      <td>-0.088809</td>\n",
       "      <td>-0.024030</td>\n",
       "    </tr>\n",
       "    <tr>\n",
       "      <th>days_since_last_pymnt</th>\n",
       "      <td>-0.015844</td>\n",
       "      <td>0.005000</td>\n",
       "      <td>-0.097698</td>\n",
       "      <td>-0.146958</td>\n",
       "      <td>0.073552</td>\n",
       "      <td>-0.043235</td>\n",
       "      <td>-0.102115</td>\n",
       "      <td>-0.146459</td>\n",
       "      <td>-0.027757</td>\n",
       "      <td>0.013952</td>\n",
       "      <td>...</td>\n",
       "      <td>-0.034163</td>\n",
       "      <td>-0.090850</td>\n",
       "      <td>-0.003767</td>\n",
       "      <td>-0.317523</td>\n",
       "      <td>-0.474569</td>\n",
       "      <td>0.008729</td>\n",
       "      <td>-0.237988</td>\n",
       "      <td>-0.088809</td>\n",
       "      <td>1.000000</td>\n",
       "      <td>0.246529</td>\n",
       "    </tr>\n",
       "    <tr>\n",
       "      <th>days_since_last_cr_pull</th>\n",
       "      <td>0.010625</td>\n",
       "      <td>-0.007269</td>\n",
       "      <td>-0.119076</td>\n",
       "      <td>-0.042719</td>\n",
       "      <td>-0.025196</td>\n",
       "      <td>-0.019885</td>\n",
       "      <td>-0.119939</td>\n",
       "      <td>-0.039591</td>\n",
       "      <td>-0.074567</td>\n",
       "      <td>-0.052309</td>\n",
       "      <td>...</td>\n",
       "      <td>-0.045488</td>\n",
       "      <td>-0.145986</td>\n",
       "      <td>-0.066941</td>\n",
       "      <td>-0.023946</td>\n",
       "      <td>-0.131297</td>\n",
       "      <td>-0.026863</td>\n",
       "      <td>0.023259</td>\n",
       "      <td>-0.024030</td>\n",
       "      <td>0.246529</td>\n",
       "      <td>1.000000</td>\n",
       "    </tr>\n",
       "  </tbody>\n",
       "</table>\n",
       "<p>21 rows × 21 columns</p>\n",
       "</div>"
      ],
      "text/plain": [
       "                          annual_inc  delinq_2yrs       dti  funded_amnt  \\\n",
       "annual_inc                  1.000000     0.022445 -0.124681     0.268287   \n",
       "delinq_2yrs                 0.022445     1.000000 -0.036118    -0.034389   \n",
       "dti                        -0.124681    -0.036118  1.000000     0.065301   \n",
       "funded_amnt                 0.268287    -0.034389  0.065301     1.000000   \n",
       "inq_last_6mths              0.033472     0.007069 -0.000236     0.007624   \n",
       "installment                 0.272153    -0.022195  0.053239     0.955391   \n",
       "int_rate                    0.052448     0.158380  0.108273     0.313052   \n",
       "loan_amnt                   0.272296    -0.033730  0.065034     0.981301   \n",
       "open_acc                    0.157171     0.011986  0.290514     0.172354   \n",
       "pub_rec                    -0.015147     0.009970 -0.005554    -0.048898   \n",
       "pub_rec_bankruptcies       -0.012931     0.004945  0.005774    -0.034133   \n",
       "revol_bal                   0.279054    -0.056674  0.228631     0.313264   \n",
       "revol_util                  0.017173    -0.044628  0.276073     0.069696   \n",
       "total_acc                   0.237203     0.068196  0.229083     0.249831   \n",
       "total_pymnt                 0.257571    -0.023685  0.064530     0.903647   \n",
       "total_rec_int               0.185332     0.022342  0.104411     0.736995   \n",
       "total_rec_late_fee          0.008124     0.033372 -0.010295     0.052480   \n",
       "total_rec_prncp             0.259872    -0.039953  0.041901     0.874004   \n",
       "days_since_first_cr_line    0.180313     0.064830  0.050192     0.193477   \n",
       "days_since_last_pymnt      -0.015844     0.005000 -0.097698    -0.146958   \n",
       "days_since_last_cr_pull     0.010625    -0.007269 -0.119076    -0.042719   \n",
       "\n",
       "                          inq_last_6mths  installment  int_rate  loan_amnt  \\\n",
       "annual_inc                      0.033472     0.272153  0.052448   0.272296   \n",
       "delinq_2yrs                     0.007069    -0.022195  0.158380  -0.033730   \n",
       "dti                            -0.000236     0.053239  0.108273   0.065034   \n",
       "funded_amnt                     0.007624     0.955391  0.313052   0.981301   \n",
       "inq_last_6mths                  1.000000     0.007526  0.134738   0.007576   \n",
       "installment                     0.007526     1.000000  0.282471   0.929132   \n",
       "int_rate                        0.134738     0.282471  1.000000   0.309604   \n",
       "loan_amnt                       0.007576     0.929132  0.309604   1.000000   \n",
       "open_acc                        0.092757     0.169679  0.013577   0.173914   \n",
       "pub_rec                         0.024603    -0.043192  0.097092  -0.048105   \n",
       "pub_rec_bankruptcies            0.015048    -0.029963  0.082078  -0.032866   \n",
       "revol_bal                      -0.025706     0.315640  0.100515   0.320136   \n",
       "revol_util                     -0.068598     0.095136  0.465695   0.065284   \n",
       "total_acc                       0.113206     0.230644 -0.042612   0.255719   \n",
       "total_pymnt                    -0.010114     0.854238  0.313651   0.886746   \n",
       "total_rec_int                   0.023080     0.632747  0.531746   0.729106   \n",
       "total_rec_late_fee              0.029547     0.059798  0.100839   0.050447   \n",
       "total_rec_prncp                -0.023412     0.851132  0.193289   0.855311   \n",
       "days_since_first_cr_line        0.006994     0.169246 -0.093930   0.199594   \n",
       "days_since_last_pymnt           0.073552    -0.043235 -0.102115  -0.146459   \n",
       "days_since_last_cr_pull        -0.025196    -0.019885 -0.119939  -0.039591   \n",
       "\n",
       "                          open_acc   pub_rec  ...  revol_bal  revol_util  \\\n",
       "annual_inc                0.157171 -0.015147  ...   0.279054    0.017173   \n",
       "delinq_2yrs               0.011986  0.009970  ...  -0.056674   -0.044628   \n",
       "dti                       0.290514 -0.005554  ...   0.228631    0.276073   \n",
       "funded_amnt               0.172354 -0.048898  ...   0.313264    0.069696   \n",
       "inq_last_6mths            0.092757  0.024603  ...  -0.025706   -0.068598   \n",
       "installment               0.169679 -0.043192  ...   0.315640    0.095136   \n",
       "int_rate                  0.013577  0.097092  ...   0.100515    0.465695   \n",
       "loan_amnt                 0.173914 -0.048105  ...   0.320136    0.065284   \n",
       "open_acc                  1.000000  0.003568  ...   0.286259   -0.087536   \n",
       "pub_rec                   0.003568  1.000000  ...  -0.059926    0.057715   \n",
       "pub_rec_bankruptcies      0.009457  0.841247  ...  -0.047077    0.060246   \n",
       "revol_bal                 0.286259 -0.059926  ...   1.000000    0.305062   \n",
       "revol_util               -0.087536  0.057715  ...   0.305062    1.000000   \n",
       "total_acc                 0.684804 -0.020384  ...   0.312378   -0.068831   \n",
       "total_pymnt               0.158537 -0.050642  ...   0.295432    0.080870   \n",
       "total_rec_int             0.122305 -0.005121  ...   0.244697    0.195013   \n",
       "total_rec_late_fee       -0.016989 -0.006129  ...   0.006222    0.040979   \n",
       "total_rec_prncp           0.156791 -0.062609  ...   0.284513    0.026387   \n",
       "days_since_first_cr_line  0.208382  0.035276  ...   0.245795   -0.025639   \n",
       "days_since_last_pymnt    -0.027757  0.013952  ...  -0.034163   -0.090850   \n",
       "days_since_last_cr_pull  -0.074567 -0.052309  ...  -0.045488   -0.145986   \n",
       "\n",
       "                          total_acc  total_pymnt  total_rec_int  \\\n",
       "annual_inc                 0.237203     0.257571       0.185332   \n",
       "delinq_2yrs                0.068196    -0.023685       0.022342   \n",
       "dti                        0.229083     0.064530       0.104411   \n",
       "funded_amnt                0.249831     0.903647       0.736995   \n",
       "inq_last_6mths             0.113206    -0.010114       0.023080   \n",
       "installment                0.230644     0.854238       0.632747   \n",
       "int_rate                  -0.042612     0.313651       0.531746   \n",
       "loan_amnt                  0.255719     0.886746       0.729106   \n",
       "open_acc                   0.684804     0.158537       0.122305   \n",
       "pub_rec                   -0.020384    -0.050642      -0.005121   \n",
       "pub_rec_bankruptcies      -0.007656    -0.039649      -0.000577   \n",
       "revol_bal                  0.312378     0.295432       0.244697   \n",
       "revol_util                -0.068831     0.080870       0.195013   \n",
       "total_acc                  1.000000     0.222062       0.145692   \n",
       "total_pymnt                0.222062     1.000000       0.836404   \n",
       "total_rec_int              0.145692     0.836404       1.000000   \n",
       "total_rec_late_fee        -0.020286     0.021781       0.082799   \n",
       "total_rec_prncp            0.228903     0.971794       0.695599   \n",
       "days_since_first_cr_line   0.358805     0.179525       0.123714   \n",
       "days_since_last_pymnt     -0.003767    -0.317523      -0.474569   \n",
       "days_since_last_cr_pull   -0.066941    -0.023946      -0.131297   \n",
       "\n",
       "                          total_rec_late_fee  total_rec_prncp  \\\n",
       "annual_inc                          0.008124         0.259872   \n",
       "delinq_2yrs                         0.033372        -0.039953   \n",
       "dti                                -0.010295         0.041901   \n",
       "funded_amnt                         0.052480         0.874004   \n",
       "inq_last_6mths                      0.029547        -0.023412   \n",
       "installment                         0.059798         0.851132   \n",
       "int_rate                            0.100839         0.193289   \n",
       "loan_amnt                           0.050447         0.855311   \n",
       "open_acc                           -0.016989         0.156791   \n",
       "pub_rec                            -0.006129        -0.062609   \n",
       "pub_rec_bankruptcies               -0.005562        -0.050157   \n",
       "revol_bal                           0.006222         0.284513   \n",
       "revol_util                          0.040979         0.026387   \n",
       "total_acc                          -0.020286         0.228903   \n",
       "total_pymnt                         0.021781         0.971794   \n",
       "total_rec_int                       0.082799         0.695599   \n",
       "total_rec_late_fee                  1.000000        -0.013677   \n",
       "total_rec_prncp                    -0.013677         1.000000   \n",
       "days_since_first_cr_line           -0.010749         0.183498   \n",
       "days_since_last_pymnt               0.008729        -0.237988   \n",
       "days_since_last_cr_pull            -0.026863         0.023259   \n",
       "\n",
       "                          days_since_first_cr_line  days_since_last_pymnt  \\\n",
       "annual_inc                                0.180313              -0.015844   \n",
       "delinq_2yrs                               0.064830               0.005000   \n",
       "dti                                       0.050192              -0.097698   \n",
       "funded_amnt                               0.193477              -0.146958   \n",
       "inq_last_6mths                            0.006994               0.073552   \n",
       "installment                               0.169246              -0.043235   \n",
       "int_rate                                 -0.093930              -0.102115   \n",
       "loan_amnt                                 0.199594              -0.146459   \n",
       "open_acc                                  0.208382              -0.027757   \n",
       "pub_rec                                   0.035276               0.013952   \n",
       "pub_rec_bankruptcies                      0.044421               0.012104   \n",
       "revol_bal                                 0.245795              -0.034163   \n",
       "revol_util                               -0.025639              -0.090850   \n",
       "total_acc                                 0.358805              -0.003767   \n",
       "total_pymnt                               0.179525              -0.317523   \n",
       "total_rec_int                             0.123714              -0.474569   \n",
       "total_rec_late_fee                       -0.010749               0.008729   \n",
       "total_rec_prncp                           0.183498              -0.237988   \n",
       "days_since_first_cr_line                  1.000000              -0.088809   \n",
       "days_since_last_pymnt                    -0.088809               1.000000   \n",
       "days_since_last_cr_pull                  -0.024030               0.246529   \n",
       "\n",
       "                          days_since_last_cr_pull  \n",
       "annual_inc                               0.010625  \n",
       "delinq_2yrs                             -0.007269  \n",
       "dti                                     -0.119076  \n",
       "funded_amnt                             -0.042719  \n",
       "inq_last_6mths                          -0.025196  \n",
       "installment                             -0.019885  \n",
       "int_rate                                -0.119939  \n",
       "loan_amnt                               -0.039591  \n",
       "open_acc                                -0.074567  \n",
       "pub_rec                                 -0.052309  \n",
       "pub_rec_bankruptcies                    -0.046864  \n",
       "revol_bal                               -0.045488  \n",
       "revol_util                              -0.145986  \n",
       "total_acc                               -0.066941  \n",
       "total_pymnt                             -0.023946  \n",
       "total_rec_int                           -0.131297  \n",
       "total_rec_late_fee                      -0.026863  \n",
       "total_rec_prncp                          0.023259  \n",
       "days_since_first_cr_line                -0.024030  \n",
       "days_since_last_pymnt                    0.246529  \n",
       "days_since_last_cr_pull                  1.000000  \n",
       "\n",
       "[21 rows x 21 columns]"
      ]
     },
     "execution_count": 20,
     "metadata": {},
     "output_type": "execute_result"
    }
   ],
   "source": [
    "import seaborn as sns\n",
    "\n",
    "cor_table = X[numeric_cols].corr()\n",
    "\n",
    "cor_table"
   ]
  },
  {
   "cell_type": "code",
   "execution_count": 21,
   "metadata": {},
   "outputs": [
    {
     "data": {
      "text/plain": [
       "<matplotlib.axes._subplots.AxesSubplot at 0x12e128898>"
      ]
     },
     "execution_count": 21,
     "metadata": {},
     "output_type": "execute_result"
    },
    {
     "data": {
      "image/png": "[encoded data removed]",
      "text/plain": [
       "<Figure size 432x288 with 2 Axes>"
      ]
     },
     "metadata": {},
     "output_type": "display_data"
    }
   ],
   "source": [
    "sns.heatmap(X[numeric_cols].corr())"
   ]
  },
  {
   "cell_type": "code",
   "execution_count": 22,
   "metadata": {},
   "outputs": [
    {
     "data": {
      "text/html": [
       "<div>\n",
       "<style scoped>\n",
       "    .dataframe tbody tr th:only-of-type {\n",
       "        vertical-align: middle;\n",
       "    }\n",
       "\n",
       "    .dataframe tbody tr th {\n",
       "        vertical-align: top;\n",
       "    }\n",
       "\n",
       "    .dataframe thead th {\n",
       "        text-align: right;\n",
       "    }\n",
       "</style>\n",
       "<table border=\"1\" class=\"dataframe\">\n",
       "  <thead>\n",
       "    <tr style=\"text-align: right;\">\n",
       "      <th></th>\n",
       "      <th>total_rec_prncp</th>\n",
       "      <th>total_pymnt</th>\n",
       "    </tr>\n",
       "  </thead>\n",
       "  <tbody>\n",
       "    <tr>\n",
       "      <th>total_rec_prncp</th>\n",
       "      <td>1.000000</td>\n",
       "      <td>0.971794</td>\n",
       "    </tr>\n",
       "    <tr>\n",
       "      <th>total_pymnt</th>\n",
       "      <td>0.971794</td>\n",
       "      <td>1.000000</td>\n",
       "    </tr>\n",
       "  </tbody>\n",
       "</table>\n",
       "</div>"
      ],
      "text/plain": [
       "                 total_rec_prncp  total_pymnt\n",
       "total_rec_prncp         1.000000     0.971794\n",
       "total_pymnt             0.971794     1.000000"
      ]
     },
     "execution_count": 22,
     "metadata": {},
     "output_type": "execute_result"
    }
   ],
   "source": [
    "X[['total_rec_prncp', 'total_pymnt']].corr()"
   ]
  },
  {
   "cell_type": "markdown",
   "metadata": {},
   "source": [
    "There are some almost perfect correlation, for example total_rec_prncp, which we can take out. "
   ]
  },
  {
   "cell_type": "code",
   "execution_count": 23,
   "metadata": {
    "collapsed": true
   },
   "outputs": [],
   "source": [
    "X = X.drop('total_rec_prncp', axis=1)"
   ]
  },
  {
   "cell_type": "markdown",
   "metadata": {},
   "source": [
    "d. Split the dataset into a single test and training set, a simple rule of thumb is an 40/60 split. How did you build these two sets?"
   ]
  },
  {
   "cell_type": "code",
   "execution_count": 24,
   "metadata": {},
   "outputs": [],
   "source": [
    "from sklearn.model_selection import train_test_split\n",
    "\n",
    "# firt convert categorical cols to dummies\n",
    "cat_cols = [k for k,v in X.dtypes.to_dict().items() if v in [object]]\n",
    "dummy = pd.get_dummies(X[cat_cols])\n",
    "X = pd.concat([X, dummy], axis=1)\n",
    "X = X.drop(cat_cols, axis=1)"
   ]
  },
  {
   "cell_type": "code",
   "execution_count": 25,
   "metadata": {},
   "outputs": [
    {
     "data": {
      "text/plain": [
       "(37901, 947)"
      ]
     },
     "execution_count": 25,
     "metadata": {},
     "output_type": "execute_result"
    }
   ],
   "source": [
    "X.shape"
   ]
  },
  {
   "cell_type": "code",
   "execution_count": 26,
   "metadata": {
    "collapsed": true
   },
   "outputs": [],
   "source": [
    "X_train, X_test, y_train, y_test = train_test_split(X, y, test_size=0.4)"
   ]
  },
  {
   "cell_type": "markdown",
   "metadata": {},
   "source": [
    "e. Using your training set, run a logistic regression, a random forest, and a gradient boosted random forest. To show your results, present both a measure of miscalssification error, accuracy and a confusion matrix."
   ]
  },
  {
   "cell_type": "code",
   "execution_count": 27,
   "metadata": {},
   "outputs": [
    {
     "name": "stderr",
     "output_type": "stream",
     "text": [
      "/Users/parasu/anaconda3/lib/python3.6/site-packages/sklearn/ensemble/weight_boosting.py:29: DeprecationWarning: numpy.core.umath_tests is an internal NumPy module and should not be imported. It will be removed in a future NumPy release.\n",
      "  from numpy.core.umath_tests import inner1d\n"
     ]
    }
   ],
   "source": [
    "from sklearn.linear_model import LogisticRegression\n",
    "from sklearn.ensemble import RandomForestClassifier\n",
    "from sklearn.ensemble import GradientBoostingClassifier\n",
    "from sklearn.metrics import accuracy_score, confusion_matrix\n",
    "\n",
    "rf = RandomForestClassifier()\n",
    "logit = LogisticRegression()\n",
    "rfgb = GradientBoostingClassifier()"
   ]
  },
  {
   "cell_type": "code",
   "execution_count": 28,
   "metadata": {},
   "outputs": [
    {
     "data": {
      "text/plain": [
       "GradientBoostingClassifier(criterion='friedman_mse', init=None,\n",
       "              learning_rate=0.1, loss='deviance', max_depth=3,\n",
       "              max_features=None, max_leaf_nodes=None,\n",
       "              min_impurity_decrease=0.0, min_impurity_split=None,\n",
       "              min_samples_leaf=1, min_samples_split=2,\n",
       "              min_weight_fraction_leaf=0.0, n_estimators=100,\n",
       "              presort='auto', random_state=None, subsample=1.0, verbose=0,\n",
       "              warm_start=False)"
      ]
     },
     "execution_count": 28,
     "metadata": {},
     "output_type": "execute_result"
    }
   ],
   "source": [
    "logit.fit(X_train, y_train)\n",
    "rf.fit(X_train, y_train)\n",
    "rfgb.fit(X_train, y_train)"
   ]
  },
  {
   "cell_type": "code",
   "execution_count": 29,
   "metadata": {
    "collapsed": true
   },
   "outputs": [],
   "source": [
    "def get_metrics(model):\n",
    "    print(model)\n",
    "    print(\"accuracy\")\n",
    "    print(accuracy_score(y_pred=model.predict(X_test), y_true=y_test))\n",
    "    print(\"Confusion matrix\")\n",
    "    print(confusion_matrix(y_pred=model.predict(X_test), y_true=y_test))\n",
    "    print('\\n\\n')"
   ]
  },
  {
   "cell_type": "code",
   "execution_count": 30,
   "metadata": {},
   "outputs": [
    {
     "name": "stdout",
     "output_type": "stream",
     "text": [
      "RandomForestClassifier(bootstrap=True, class_weight=None, criterion='gini',\n",
      "            max_depth=None, max_features='auto', max_leaf_nodes=None,\n",
      "            min_impurity_decrease=0.0, min_impurity_split=None,\n",
      "            min_samples_leaf=1, min_samples_split=2,\n",
      "            min_weight_fraction_leaf=0.0, n_estimators=10, n_jobs=1,\n",
      "            oob_score=False, random_state=None, verbose=0,\n",
      "            warm_start=False)\n",
      "accuracy\n",
      "0.9389881933909373\n",
      "Confusion matrix\n",
      "[[ 1251   840]\n",
      " [   85 12985]]\n",
      "\n",
      "\n",
      "\n",
      "LogisticRegression(C=1.0, class_weight=None, dual=False, fit_intercept=True,\n",
      "          intercept_scaling=1, max_iter=100, multi_class='ovr', n_jobs=1,\n",
      "          penalty='l2', random_state=None, solver='liblinear', tol=0.0001,\n",
      "          verbose=0, warm_start=False)\n",
      "accuracy\n",
      "0.9827847767297672\n",
      "Confusion matrix\n",
      "[[ 1832   259]\n",
      " [    2 13068]]\n",
      "\n",
      "\n",
      "\n",
      "GradientBoostingClassifier(criterion='friedman_mse', init=None,\n",
      "              learning_rate=0.1, loss='deviance', max_depth=3,\n",
      "              max_features=None, max_leaf_nodes=None,\n",
      "              min_impurity_decrease=0.0, min_impurity_split=None,\n",
      "              min_samples_leaf=1, min_samples_split=2,\n",
      "              min_weight_fraction_leaf=0.0, n_estimators=100,\n",
      "              presort='auto', random_state=None, subsample=1.0, verbose=0,\n",
      "              warm_start=False)\n",
      "accuracy\n",
      "0.9779038322010422\n",
      "Confusion matrix\n",
      "[[ 1779   312]\n",
      " [   23 13047]]\n",
      "\n",
      "\n",
      "\n"
     ]
    }
   ],
   "source": [
    "for m in (rf, logit, rfgb):\n",
    "    get_metrics(m)"
   ]
  },
  {
   "cell_type": "markdown",
   "metadata": {},
   "source": [
    "The accuracy seems suspiciously high (the baserate for paid off loan is 86%). Maybe there's leakage from one of the included variables.   "
   ]
  },
  {
   "cell_type": "markdown",
   "metadata": {},
   "source": [
    "f. One easy way to improve model performance is cross-validation. Do a k-fold cross validation, where k=5, using the best performing model from part (e.). Re-report the misclassification error, accuracy and a confusion matrix. "
   ]
  },
  {
   "cell_type": "code",
   "execution_count": 31,
   "metadata": {
    "collapsed": true
   },
   "outputs": [],
   "source": [
    "from sklearn.model_selection import cross_validate, cross_val_score, cross_val_predict"
   ]
  },
  {
   "cell_type": "code",
   "execution_count": 32,
   "metadata": {},
   "outputs": [
    {
     "data": {
      "text/plain": [
       "array([0.98720485, 0.98680913, 0.98562005, 0.98139842, 0.98113208])"
      ]
     },
     "execution_count": 32,
     "metadata": {},
     "output_type": "execute_result"
    }
   ],
   "source": [
    "# accuracies\n",
    "cross_val_score(logit, X, y, cv=5)"
   ]
  },
  {
   "cell_type": "code",
   "execution_count": 33,
   "metadata": {},
   "outputs": [
    {
     "data": {
      "text/plain": [
       "array([[ 4663,   581],\n",
       "       [    9, 32648]])"
      ]
     },
     "execution_count": 33,
     "metadata": {},
     "output_type": "execute_result"
    }
   ],
   "source": [
    "confusion_matrix(y_pred=cross_val_predict(logit, X, y, cv=5), y_true=y)"
   ]
  }
 ],
 "metadata": {
  "kernelspec": {
   "display_name": "Python 3",
   "language": "python",
   "name": "python3"
  },
  "language_info": {
   "codemirror_mode": {
    "name": "ipython",
    "version": 3
   },
   "file_extension": ".py",
   "mimetype": "text/x-python",
   "name": "python",
   "nbconvert_exporter": "python",
   "pygments_lexer": "ipython3",
   "version": "3.6.1"
  },
  "latex_metadata": {
   "author": "Prasanna Parasurama",
   "title": "Problem Set 6"
  }
 },
 "nbformat": 4,
 "nbformat_minor": 2
}
